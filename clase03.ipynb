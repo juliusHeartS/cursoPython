{
 "cells": [
  {
   "cell_type": "code",
   "execution_count": 3,
   "metadata": {},
   "outputs": [
    {
     "name": "stdout",
     "output_type": "stream",
     "text": [
      "ESTE ES UN MENSAJE EN MINÚCULAS\n"
     ]
    }
   ],
   "source": [
    "# lower() upper()\n",
    "mensaje = \"Este es un mensaje en minúsculas\"\n",
    "print(mensaje.upper())"
   ]
  },
  {
   "attachments": {},
   "cell_type": "markdown",
   "metadata": {},
   "source": [
    "## Funciones\n",
    "Las funciones son programas que reciben cero o más parámetros cuando se invocan realizan unprocedimiento o acción y pueden devolver un valor."
   ]
  },
  {
   "attachments": {},
   "cell_type": "markdown",
   "metadata": {},
   "source": [
    "### Ejemplo\n",
    "Una función que recibe una frase y una indicación booleana para devolver la frase en mayúsculas,  minúsculas o sin ningún cambio en cualquier otro caso."
   ]
  },
  {
   "cell_type": "code",
   "execution_count": 5,
   "metadata": {},
   "outputs": [],
   "source": [
    "def uplo(frase,tipo=\"no change\"):\n",
    "    # frase es el primer parámetro y no tiene valor por defecto y debe ser del tipo str\n",
    "    # tipo es un parámetro de cotrol, si es \"upper\" la función devuelve la frase en mayúsculas, si \n",
    "    # es \"lower\" devuelve la frase en minúsculas, en los demás casos devuelve la misma frase\n",
    "    if tipo == \"upper\":\n",
    "        return(frase.upper())\n",
    "    elif tipo == \"lower\":\n",
    "        return(frase.lower())\n",
    "    else:\n",
    "        return(frase)"
   ]
  },
  {
   "cell_type": "code",
   "execution_count": 10,
   "metadata": {},
   "outputs": [
    {
     "data": {
      "text/plain": [
       "'RECOREMOS QUE QUITO ES LA CAPITAL DEL ECUADOR'"
      ]
     },
     "execution_count": 10,
     "metadata": {},
     "output_type": "execute_result"
    }
   ],
   "source": [
    "# Invocamos la función\n",
    "uplo(\"Recoremos que Quito es la capital del Ecuador\", tipo = \"upper\")"
   ]
  },
  {
   "cell_type": "code",
   "execution_count": 11,
   "metadata": {},
   "outputs": [
    {
     "data": {
      "text/plain": [
       "'recordemos que quito es la capital del ecuador'"
      ]
     },
     "execution_count": 11,
     "metadata": {},
     "output_type": "execute_result"
    }
   ],
   "source": [
    "uplo(\"Recordemos que Quito es la capital del Ecuador\", tipo = \"lower\")"
   ]
  },
  {
   "cell_type": "code",
   "execution_count": 12,
   "metadata": {},
   "outputs": [
    {
     "data": {
      "text/plain": [
       "'Recordemos que Quito es la capital del Ecuador'"
      ]
     },
     "execution_count": 12,
     "metadata": {},
     "output_type": "execute_result"
    }
   ],
   "source": [
    "# La cadena de control con cualquier cosa\n",
    "uplo(\"Recordemos que Quito es la capital del Ecuador\", tipo = \"no lo sé\")"
   ]
  },
  {
   "cell_type": "code",
   "execution_count": 13,
   "metadata": {},
   "outputs": [
    {
     "data": {
      "text/plain": [
       "'Recordemos que Quito es la capital del Ecuador'"
      ]
     },
     "execution_count": 13,
     "metadata": {},
     "output_type": "execute_result"
    }
   ],
   "source": [
    "# La cadena de control toma el parámetro tipo con su valor por defecto\n",
    "uplo(\"Recordemos que Quito es la capital del Ecuador\")"
   ]
  },
  {
   "attachments": {},
   "cell_type": "markdown",
   "metadata": {},
   "source": [
    "### Ejemplo\n",
    "Una función que no recibe parámatros y solamente solicita un nombre y lo imprime en pantall."
   ]
  },
  {
   "cell_type": "code",
   "execution_count": 14,
   "metadata": {},
   "outputs": [],
   "source": [
    "def sinp():\n",
    "    mensaje = input(\"Por favor ingrese un mensaje\")\n",
    "    return(mensaje)"
   ]
  },
  {
   "cell_type": "code",
   "execution_count": 15,
   "metadata": {},
   "outputs": [
    {
     "data": {
      "text/plain": [
       "'Estoy en el procedimiento de la función'"
      ]
     },
     "execution_count": 15,
     "metadata": {},
     "output_type": "execute_result"
    }
   ],
   "source": [
    "sinp()"
   ]
  },
  {
   "attachments": {},
   "cell_type": "markdown",
   "metadata": {},
   "source": [
    "### Ejemplo\n",
    "Una función que recibe parámetros pero no devuelve valor alguno"
   ]
  },
  {
   "cell_type": "code",
   "execution_count": 18,
   "metadata": {},
   "outputs": [],
   "source": [
    "# Note que la función o tene return\n",
    "def conp(x,y):\n",
    "    # x es el primer parámetro\n",
    "    # y es el segundo parámetro\n",
    "    print(\"Los valores recibidos son\")\n",
    "    print(f\"x = {x}    y = {y}\")\n",
    "    "
   ]
  },
  {
   "cell_type": "code",
   "execution_count": 19,
   "metadata": {},
   "outputs": [
    {
     "name": "stdout",
     "output_type": "stream",
     "text": [
      "Los valores recibidos son\n",
      "x = 3    y = Interesante\n"
     ]
    }
   ],
   "source": [
    "conp(3,\"Interesante\")"
   ]
  },
  {
   "attachments": {},
   "cell_type": "markdown",
   "metadata": {},
   "source": [
    "### Alcance y contexto. \n",
    "Si una variable existe en el contexto principal tiene el mismo nombre que en el contexto de una función, el tipo y los valores que contengan son independientes. Es decir las acciones dentro de la función que afecten a la variable homónima, no afectan a la del flujo principal."
   ]
  },
  {
   "cell_type": "code",
   "execution_count": 30,
   "metadata": {},
   "outputs": [],
   "source": [
    "def fool(a,b):\n",
    "    x = a + b\n",
    "    print(f\"x = {x}, dentro de la función\")\n",
    "    return(x)\n",
    "\n"
   ]
  },
  {
   "cell_type": "code",
   "execution_count": 31,
   "metadata": {},
   "outputs": [
    {
     "name": "stdout",
     "output_type": "stream",
     "text": [
      "x = 3, antes de la función \n",
      "x = 7, dentro de la función\n",
      "x = 3, después de la función \n"
     ]
    }
   ],
   "source": [
    "x = 3 \n",
    "print(f\"x = {x}, antes de la función \")\n",
    "fool(3,4)\n",
    "print(f\"x = {x}, después de la función \")\n"
   ]
  },
  {
   "cell_type": "code",
   "execution_count": 28,
   "metadata": {},
   "outputs": [
    {
     "data": {
      "text/plain": [
       "9.440000000000001"
      ]
     },
     "execution_count": 28,
     "metadata": {},
     "output_type": "execute_result"
    }
   ],
   "source": [
    "fool(3.24,6.2)"
   ]
  },
  {
   "attachments": {},
   "cell_type": "markdown",
   "metadata": {},
   "source": [
    "### Ejercicio.\n",
    "Hacer una función que reciba dos números $a$, $b$ y un entero $n$, con estos números la función debe calcular los elementos de la partición de $n$ números del intervalo [$a$,$b$] y debe retornar una lsta con los valores. La función debe verificar que $a<b$, si no sucede los números deben ser intercambiados."
   ]
  },
  {
   "cell_type": "code",
   "execution_count": 42,
   "metadata": {},
   "outputs": [],
   "source": [
    "def parti(a,b,n):\n",
    "    # a extremo inferior\n",
    "    # b extremo superior\n",
    "    # n número de puntos en la partición.\n",
    "    if not a < b:\n",
    "        c = a\n",
    "        a = b\n",
    "        b = c\n",
    "    lista_numeros = [a]\n",
    "    paso = (b-a)/(n-1)\n",
    "    for i in range(1,n):\n",
    "        lista_numeros.append(round(a+i*paso,4))\n",
    "    return(lista_numeros)\n",
    "     "
   ]
  },
  {
   "cell_type": "code",
   "execution_count": 43,
   "metadata": {},
   "outputs": [
    {
     "data": {
      "text/plain": [
       "[1,\n",
       " 1.0833,\n",
       " 1.1667,\n",
       " 1.25,\n",
       " 1.3333,\n",
       " 1.4167,\n",
       " 1.5,\n",
       " 1.5833,\n",
       " 1.6667,\n",
       " 1.75,\n",
       " 1.8333,\n",
       " 1.9167,\n",
       " 2.0,\n",
       " 2.0833,\n",
       " 2.1667,\n",
       " 2.25,\n",
       " 2.3333,\n",
       " 2.4167,\n",
       " 2.5,\n",
       " 2.5833,\n",
       " 2.6667,\n",
       " 2.75,\n",
       " 2.8333,\n",
       " 2.9167,\n",
       " 3.0]"
      ]
     },
     "execution_count": 43,
     "metadata": {},
     "output_type": "execute_result"
    }
   ],
   "source": [
    "# Testeo\n",
    "parti(1,3,25)"
   ]
  },
  {
   "cell_type": "code",
   "execution_count": null,
   "metadata": {},
   "outputs": [],
   "source": []
  }
 ],
 "metadata": {
  "kernelspec": {
   "display_name": "Python 3",
   "language": "python",
   "name": "python3"
  },
  "language_info": {
   "codemirror_mode": {
    "name": "ipython",
    "version": 3
   },
   "file_extension": ".py",
   "mimetype": "text/x-python",
   "name": "python",
   "nbconvert_exporter": "python",
   "pygments_lexer": "ipython3",
   "version": "3.9.6"
  },
  "orig_nbformat": 4
 },
 "nbformat": 4,
 "nbformat_minor": 2
}
