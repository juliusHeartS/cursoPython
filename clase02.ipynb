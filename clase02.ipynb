{
 "cells": [
  {
   "attachments": {},
   "cell_type": "markdown",
   "metadata": {},
   "source": [
    "## Funciones anidadas\n",
    "Una función se puede aplicar sobre el resultado de otra sin necesidada de almacenar el resultado en una variable adicional. Por ejemplo:\n"
   ]
  },
  {
   "cell_type": "code",
   "execution_count": null,
   "metadata": {},
   "outputs": [],
   "source": [
    "mensaje = \"Escriba un mensaje cualquiera: \"\n",
    "cadena = input(mensaje)\n",
    "longitud_cadena = len(cadena)\n",
    "print(longitud_cadena)"
   ]
  },
  {
   "attachments": {},
   "cell_type": "markdown",
   "metadata": {},
   "source": [
    "Se  puede reemplazar con el comando anidado:"
   ]
  },
  {
   "cell_type": "code",
   "execution_count": null,
   "metadata": {},
   "outputs": [],
   "source": [
    "mensaje = \"Escriba un mensaje cualquiera: \"\n",
    "print(len(input(mensaje)))"
   ]
  },
  {
   "attachments": {},
   "cell_type": "markdown",
   "metadata": {},
   "source": [
    "### Ejercicio:\n",
    "Escriba una secuencia de comandos para guardar dos listas de números en una sola lista, el programa debe imprimir la lista concatenada."
   ]
  },
  {
   "cell_type": "code",
   "execution_count": null,
   "metadata": {},
   "outputs": [],
   "source": [
    "# Algo que puede parece la solución\n",
    "lista1 = input(\"Ingrese una lista de números: \")\n",
    "lista2 = input(\"Ingrese una segunda listade números\")\n",
    "print(lista1 + lista2)"
   ]
  },
  {
   "attachments": {},
   "cell_type": "markdown",
   "metadata": {},
   "source": [
    "¿Por qué la solución no es correcta?"
   ]
  },
  {
   "attachments": {},
   "cell_type": "markdown",
   "metadata": {},
   "source": [
    "### Una mejor solución.\n",
    "A continuación una secuencia de comandos que ofrecen una solución respetando los tipos."
   ]
  },
  {
   "cell_type": "code",
   "execution_count": null,
   "metadata": {},
   "outputs": [],
   "source": [
    "# Añadiendo elementos a una lista\n",
    "lista1 = []\n",
    "mensaje = \"Ingrese un entero: \"\n",
    "lista1.append(int(input(mensaje)))\n",
    "lista1.append(int(input(mensaje)))\n",
    "lista1.append(int(input(mensaje)))\n",
    "print(\"Lista 1: \",lista1)\n",
    "\n",
    "lista2 = []\n",
    "lista2.append(int(input(mensaje)))\n",
    "lista2.append(int(input(mensaje)))\n",
    "lista2.append(int(input(mensaje)))\n",
    "print(\"Lista 2: \",lista2)\n",
    "\n",
    "mlista = lista1 + lista2\n",
    "print(\"La lista concatenada es: \",mlista)"
   ]
  },
  {
   "attachments": {},
   "cell_type": "markdown",
   "metadata": {},
   "source": [
    "### Una observación sobre las funciones y los tipos. \n",
    "Cuando una función recibe un parámetro, el parámetro debe ser del tipo correcto, por ejemplo:"
   ]
  },
  {
   "cell_type": "code",
   "execution_count": null,
   "metadata": {},
   "outputs": [],
   "source": [
    "len(12345)"
   ]
  },
  {
   "attachments": {},
   "cell_type": "markdown",
   "metadata": {},
   "source": [
    "¿Por qué hay un error?"
   ]
  },
  {
   "cell_type": "code",
   "execution_count": null,
   "metadata": {},
   "outputs": [],
   "source": [
    "len(\"12345\")\n",
    "len([1,2,3,4,5])"
   ]
  },
  {
   "cell_type": "code",
   "execution_count": null,
   "metadata": {},
   "outputs": [],
   "source": [
    "prueba = \"12345\"\n",
    "print('12' in prueba)\n",
    "print('33' in prueba)"
   ]
  },
  {
   "cell_type": "code",
   "execution_count": null,
   "metadata": {},
   "outputs": [],
   "source": [
    "prueba = [1, \"1\", 2, \"2\", 3, \"3\"]\n",
    "print(1 in prueba)\n",
    "print(\"1\" in prueba)"
   ]
  },
  {
   "attachments": {},
   "cell_type": "markdown",
   "metadata": {},
   "source": [
    "####  Ejercicio:\n",
    "Funciona o da error la siguiente secuencia de comandos:"
   ]
  },
  {
   "cell_type": "code",
   "execution_count": null,
   "metadata": {},
   "outputs": [],
   "source": [
    "prueba = 12345\n",
    "1 in prueba"
   ]
  },
  {
   "attachments": {},
   "cell_type": "markdown",
   "metadata": {},
   "source": [
    "## Estructura condicional if\n",
    "La estructura condicional if sirva pra elegir entre dos fluos de ejecución en base al complimiento o no de una condición.\n",
    "La estructura básica es:\n",
    "if \"se cumple la condición\":\n",
    "    instrucciones por verdadero.\n",
    "else:\n",
    "    instrucciones por falso."
   ]
  },
  {
   "cell_type": "code",
   "execution_count": 30,
   "metadata": {},
   "outputs": [
    {
     "name": "stdout",
     "output_type": "stream",
     "text": [
      "El número igresado es más grande que 100\n",
      "Su raíz cuadrada con dos decimales es:  11.14\n"
     ]
    }
   ],
   "source": [
    "# Pongamos una condición sobre un número léido.\n",
    "# Ponga cuidado a la identación, para Python la identación es muy importante\n",
    "numero = float(input(\"Ingrese un número cualquiera: \"))\n",
    "if numero > 100:\n",
    "    print(\"El número igresado es más grande que 100\")\n",
    "    print(\"Su raíz cuadrada con dos decimales es: \", round(numero**0.5,2))\n",
    "else:\n",
    "    print(\"el número ingresado es menor o igual que 100\")\n",
    "\n"
   ]
  },
  {
   "attachments": {},
   "cell_type": "markdown",
   "metadata": {},
   "source": [
    "### Ejercicio:\n",
    "Haga una secuencia de comandos con los que el computador solicite un número entero y reponda si el número recibido es o no un numero par."
   ]
  },
  {
   "cell_type": "code",
   "execution_count": 31,
   "metadata": {},
   "outputs": [
    {
     "name": "stdout",
     "output_type": "stream",
     "text": [
      "El número  33  no es número par.\n"
     ]
    }
   ],
   "source": [
    "# Solución\n",
    "numero = int(input(\"Ingrese un número entero: \"))\n",
    "if numero%2 == 0:\n",
    "    print(\"El número \", numero, \" es número par.\")\n",
    "else:\n",
    "    print(\"El número \", numero, \" no es número par.\")"
   ]
  },
  {
   "attachments": {},
   "cell_type": "markdown",
   "metadata": {},
   "source": [
    "### Ejercicio:\n",
    "Ingrese una lista de 10 nombres, y una lista de 10 apellidos que corresponda a los nombres de la primera lista. Luego solicite que se ingrese un nombre, verifique si el nombre está o no en la lista de nombres, si el nombre está averigue si el apellido está en la lista de apellidos, caso contrario indique que \"El usuario no está invitado a la fiesta\". Si el apellido está emita un mensaje que indique que \"Hay posibiidades de que el usuario este invitado a la fiesta\", caso contrario emita un mensaje de que el \"El usuario no está invitado a la fiesta\". En draw.io haga un diagrama del flujo de instrucciones."
   ]
  },
  {
   "cell_type": "code",
   "execution_count": null,
   "metadata": {},
   "outputs": [],
   "source": [
    "# Solución."
   ]
  },
  {
   "attachments": {},
   "cell_type": "markdown",
   "metadata": {},
   "source": [
    "### Ejercicio:\n",
    "Ingrese una cadena de caracteres desde el teclado. Averigue si a longitud de la cadena es para o impar. Si es para imprima solamente la mitad superior de la cadea junto con un mensaje indicando el número de caracteres de la cadena. Si la longitud de la cadena es impar, aumente un caracter vacío a la cadena e imprima la mitad inferior de caracteres, indicando el numero de caracteres de la cadena."
   ]
  },
  {
   "cell_type": "markdown",
   "metadata": {},
   "source": []
  },
  {
   "attachments": {},
   "cell_type": "markdown",
   "metadata": {},
   "source": [
    "### Ejercicio:\n",
    "Haga un programa que resuelve el costo de acceso de personas a una piscina. El programa debe preguntar la estatura de la persona, si la persona mide 160cm más, se le pregunta la edad , si tiene menos de 12 la persona no puede entrar a la piscina, si tiene de 12 a menos de 18 años, la entrada cuesta 5 dólares y se le da la bienvenida, si tiene 18 años o más, la persona debe pagar 9 dólares y se le da un mensaje de bienvenida. si la persona mide menos de 160cm, un mensaje disculpándose porque la persona no puede ingresar a la piscina."
   ]
  },
  {
   "attachments": {},
   "cell_type": "markdown",
   "metadata": {},
   "source": [
    "## Estructuras repetitivas.\n",
    "### Estructura for\n",
    "La estructura for repite ua secuencia de instrucciones acorde a un índice, mientras recorre un conjunto que sirve de iterador. Un iterador no es más que una estructura con valores que debe tomar el índice.\n",
    "La estructura general de un cilo for es:\n",
    "for índice in iterador:\n",
    "    instrucciones "
   ]
  },
  {
   "cell_type": "code",
   "execution_count": 4,
   "metadata": {},
   "outputs": [
    {
     "name": "stdout",
     "output_type": "stream",
     "text": [
      "zapatos\n",
      "medias\n",
      "pantalón\n",
      "camiseta\n",
      "El iterador es la lista ['zapatos', 'medias', 'pantalón', 'camiseta']\n",
      "El índice tiene el valor  camiseta\n"
     ]
    }
   ],
   "source": [
    "# Por ejemplo\n",
    "# Una lista es un iterador\n",
    "prendas = [\"zapatos\", \"medias\", \"pantalón\", \"camiseta\"]\n",
    "for prenda in prendas:\n",
    "    print(prenda)\n",
    "\n",
    "print(\"El iterador es la lista\", prendas)\n",
    "print(\"El índice tiene el valor \", prenda)"
   ]
  },
  {
   "attachments": {},
   "cell_type": "markdown",
   "metadata": {},
   "source": [
    "### range\n",
    "El comando range genera una formula para generar valores. Por ejemplo:"
   ]
  },
  {
   "cell_type": "code",
   "execution_count": 5,
   "metadata": {},
   "outputs": [
    {
     "data": {
      "text/plain": [
       "range"
      ]
     },
     "execution_count": 5,
     "metadata": {},
     "output_type": "execute_result"
    }
   ],
   "source": [
    "valores = range(10)\n",
    "type(valores)"
   ]
  },
  {
   "cell_type": "code",
   "execution_count": 6,
   "metadata": {},
   "outputs": [
    {
     "name": "stdout",
     "output_type": "stream",
     "text": [
      "0\n",
      "1\n",
      "2\n",
      "3\n",
      "4\n",
      "5\n",
      "6\n",
      "7\n",
      "8\n",
      "9\n"
     ]
    }
   ],
   "source": [
    "for i in range(10):\n",
    "    print(i)"
   ]
  },
  {
   "cell_type": "code",
   "execution_count": 7,
   "metadata": {},
   "outputs": [
    {
     "name": "stdout",
     "output_type": "stream",
     "text": [
      "2\n",
      "3\n",
      "4\n",
      "5\n",
      "6\n",
      "7\n",
      "8\n",
      "9\n",
      "10\n",
      "11\n",
      "12\n",
      "13\n",
      "14\n"
     ]
    }
   ],
   "source": [
    "for i in range(2,15):\n",
    "    print(i)"
   ]
  },
  {
   "cell_type": "code",
   "execution_count": 14,
   "metadata": {},
   "outputs": [
    {
     "name": "stdout",
     "output_type": "stream",
     "text": [
      "11\n",
      "10\n",
      "9\n",
      "8\n",
      "7\n",
      "6\n",
      "5\n",
      "4\n",
      "3\n",
      "2\n"
     ]
    }
   ],
   "source": [
    "for i in range(11,1,-1):\n",
    "    print(i)"
   ]
  },
  {
   "attachments": {},
   "cell_type": "markdown",
   "metadata": {},
   "source": [
    "### Ejercicio:\n",
    "Utilice una estructura for para generar una lista que contenga valores desde 0 hasta 20 con un paso de 0.5. Note que range no acepta pasos que no sean enteros."
   ]
  },
  {
   "attachments": {},
   "cell_type": "markdown",
   "metadata": {},
   "source": [
    "#### Soluciones:"
   ]
  },
  {
   "cell_type": "code",
   "execution_count": 19,
   "metadata": {},
   "outputs": [
    {
     "name": "stdout",
     "output_type": "stream",
     "text": [
      "[0, 0.5, 1.0, 1.5, 2.0, 2.5, 3.0, 3.5, 4.0, 4.5, 5.0, 5.5, 6.0, 6.5, 7.0, 7.5, 8.0, 8.5, 9.0, 9.5, 10.0, 10.5, 11.0, 11.5, 12.0, 12.5, 13.0, 13.5, 14.0, 14.5, 15.0, 15.5, 16.0, 16.5, 17.0, 17.5, 18.0, 18.5, 19.0, 19.5, 20.0]\n"
     ]
    }
   ],
   "source": [
    "# Hay 41 valores\n",
    "numero_pasos = 41\n",
    "valor = 0\n",
    "paso = 0.5\n",
    "# Lista vacía\n",
    "lista = [] \n",
    "for i in range(numero_pasos):\n",
    "    lista.append(valor)\n",
    "    valor = valor + paso\n",
    "    # valor += paso\n",
    "print(lista)"
   ]
  },
  {
   "cell_type": "code",
   "execution_count": 17,
   "metadata": {},
   "outputs": [
    {
     "name": "stdout",
     "output_type": "stream",
     "text": [
      "[0.0, 0.5, 1.0, 1.5, 2.0, 2.5, 3.0, 3.5, 4.0, 4.5, 5.0, 5.5, 6.0, 6.5, 7.0, 7.5, 8.0, 8.5, 9.0, 9.5, 10.0, 10.5, 11.0, 11.5, 12.0, 12.5, 13.0, 13.5, 14.0, 14.5, 15.0, 15.5, 16.0, 16.5, 17.0, 17.5, 18.0, 18.5, 19.0, 19.5, 20.0]\n"
     ]
    }
   ],
   "source": [
    "# Con una transformación lineal\n",
    "lista = []\n",
    "for i in range(numero_pasos):\n",
    "    lista.append(0.5*i)\n",
    "print(lista)"
   ]
  },
  {
   "cell_type": "code",
   "execution_count": 18,
   "metadata": {},
   "outputs": [
    {
     "name": "stdout",
     "output_type": "stream",
     "text": [
      "[0, 0.5, 1.0, 1.5, 2.0, 2.5, 3.0, 3.5, 4.0, 4.5, 5.0, 5.5, 6.0, 6.5, 7.0, 7.5, 8.0, 8.5, 9.0, 9.5, 10.0, 10.5, 11.0, 11.5, 12.0, 12.5, 13.0, 13.5, 14.0, 14.5, 15.0, 15.5, 16.0, 16.5, 17.0, 17.5, 18.0, 18.5, 19.0, 19.5, 20.0]\n"
     ]
    }
   ],
   "source": [
    "# Con una condición\n",
    "valor = 0\n",
    "paso = 0.5\n",
    "lista = []\n",
    "for i in range(100):\n",
    "    lista.append(valor)\n",
    "    valor += paso\n",
    "    if valor > 20:\n",
    "        break\n",
    "\n",
    "print(lista)"
   ]
  },
  {
   "attachments": {},
   "cell_type": "markdown",
   "metadata": {},
   "source": [
    "### Ejercicio:\n",
    "Haga una lista que empiece en 1, crezca en pasos de 0.3 y no se pase de 25."
   ]
  },
  {
   "attachments": {},
   "cell_type": "markdown",
   "metadata": {},
   "source": [
    "#### Soluciones:"
   ]
  },
  {
   "cell_type": "markdown",
   "metadata": {},
   "source": []
  },
  {
   "attachments": {},
   "cell_type": "markdown",
   "metadata": {},
   "source": [
    "### Ejercicio:\n",
    "Haga una lista de 10 nombres de objetos ingresados desde el teclado. Utilice una estructura for"
   ]
  },
  {
   "cell_type": "code",
   "execution_count": 20,
   "metadata": {},
   "outputs": [
    {
     "name": "stdout",
     "output_type": "stream",
     "text": [
      "[0, 1, 2, 3, 4, 5, 6, 7, 8, 9]\n"
     ]
    }
   ],
   "source": [
    "# Una lista sin ciclo for\n",
    "lista = list(range(10))\n",
    "print(lista)"
   ]
  },
  {
   "cell_type": "code",
   "execution_count": 21,
   "metadata": {},
   "outputs": [
    {
     "name": "stdout",
     "output_type": "stream",
     "text": [
      "[[0, 1, 2, 3, 4, 5, 6, 7, 8, 9], [10, 11, 12, 13, 14, 15, 16, 17, 18, 19], [20, 21, 22, 23, 24, 25, 26, 27, 28, 29], [30, 31, 32, 33, 34, 35, 36, 37, 38, 39], [40, 41, 42, 43, 44, 45, 46, 47, 48, 49], [50, 51, 52, 53, 54, 55, 56, 57, 58, 59], [60, 61, 62, 63, 64, 65, 66, 67, 68, 69], [70, 71, 72, 73, 74, 75, 76, 77, 78, 79], [80, 81, 82, 83, 84, 85, 86, 87, 88, 89], [90, 91, 92, 93, 94, 95, 96, 97, 98, 99]]\n"
     ]
    }
   ],
   "source": [
    "# Un ciclo for y una lista de listas\n",
    "mlista=[]\n",
    "for i in range(10):\n",
    "    mlista.append(list(range(i*10,i*10+10)))\n",
    "\n",
    "print(mlista)"
   ]
  },
  {
   "cell_type": "code",
   "execution_count": 22,
   "metadata": {},
   "outputs": [
    {
     "name": "stdout",
     "output_type": "stream",
     "text": [
      "[0, 1, 2, 3, 4, 5, 6, 7, 8, 9]\n",
      "[10, 11, 12, 13, 14, 15, 16, 17, 18, 19]\n",
      "[20, 21, 22, 23, 24, 25, 26, 27, 28, 29]\n",
      "[30, 31, 32, 33, 34, 35, 36, 37, 38, 39]\n",
      "[40, 41, 42, 43, 44, 45, 46, 47, 48, 49]\n",
      "[50, 51, 52, 53, 54, 55, 56, 57, 58, 59]\n",
      "[60, 61, 62, 63, 64, 65, 66, 67, 68, 69]\n",
      "[70, 71, 72, 73, 74, 75, 76, 77, 78, 79]\n",
      "[80, 81, 82, 83, 84, 85, 86, 87, 88, 89]\n",
      "[90, 91, 92, 93, 94, 95, 96, 97, 98, 99]\n"
     ]
    }
   ],
   "source": [
    "# Una mejor impresión de la lista de listas\n",
    "for i in range(10):\n",
    "    print(mlista[i])"
   ]
  },
  {
   "attachments": {},
   "cell_type": "markdown",
   "metadata": {},
   "source": [
    "### Ejercicio:\n",
    "Haga una lista de listas que contengan los múltiplos 10 primeros múltiplos de los números desde 1 hasta 20."
   ]
  },
  {
   "cell_type": "code",
   "execution_count": 24,
   "metadata": {},
   "outputs": [
    {
     "name": "stdout",
     "output_type": "stream",
     "text": [
      "[1, 2, 3, 4, 5, 6, 7, 8, 9, 10]\n",
      "[2, 4, 6, 8, 10, 12, 14, 16, 18, 20]\n",
      "[3, 6, 9, 12, 15, 18, 21, 24, 27, 30]\n",
      "[4, 8, 12, 16, 20, 24, 28, 32, 36, 40]\n",
      "[5, 10, 15, 20, 25, 30, 35, 40, 45, 50]\n",
      "[6, 12, 18, 24, 30, 36, 42, 48, 54, 60]\n",
      "[7, 14, 21, 28, 35, 42, 49, 56, 63, 70]\n",
      "[8, 16, 24, 32, 40, 48, 56, 64, 72, 80]\n",
      "[9, 18, 27, 36, 45, 54, 63, 72, 81, 90]\n",
      "[10, 20, 30, 40, 50, 60, 70, 80, 90, 100]\n",
      "[11, 22, 33, 44, 55, 66, 77, 88, 99, 110]\n",
      "[12, 24, 36, 48, 60, 72, 84, 96, 108, 120]\n",
      "[13, 26, 39, 52, 65, 78, 91, 104, 117, 130]\n",
      "[14, 28, 42, 56, 70, 84, 98, 112, 126, 140]\n",
      "[15, 30, 45, 60, 75, 90, 105, 120, 135, 150]\n",
      "[16, 32, 48, 64, 80, 96, 112, 128, 144, 160]\n",
      "[17, 34, 51, 68, 85, 102, 119, 136, 153, 170]\n",
      "[18, 36, 54, 72, 90, 108, 126, 144, 162, 180]\n",
      "[19, 38, 57, 76, 95, 114, 133, 152, 171, 190]\n",
      "[20, 40, 60, 80, 100, 120, 140, 160, 180, 200]\n"
     ]
    }
   ],
   "source": [
    "mlista = []\n",
    "for i in range(1,21):\n",
    "    mlista.append([])\n",
    "    for  j in range(1,11):\n",
    "        mlista[i-1].append(i*j)\n",
    "\n",
    "for i in range(0,20):\n",
    "    print(mlista[i])\n"
   ]
  },
  {
   "attachments": {},
   "cell_type": "markdown",
   "metadata": {},
   "source": [
    "### Ejercicio:\n",
    "Utilice una estructura for en  un programa que lea una frase ingresada desde el teclado y luego devuelva la frase escrita al revés. Por ejemplo:\n",
    "\n",
    "Recibe: \"El cielo es azul\"\"\n",
    "\n",
    "Devuelve: \"luza se oleic lE\""
   ]
  },
  {
   "cell_type": "code",
   "execution_count": 25,
   "metadata": {},
   "outputs": [
    {
     "name": "stdout",
     "output_type": "stream",
     "text": [
      "luza se oleic lE\n"
     ]
    }
   ],
   "source": [
    "frase = input(\"Ingrese una frase cualquiera: \\n\")\n",
    "n_frase = len(frase)\n",
    "frase_invertida = \"\"\n",
    "\n",
    "for i in range(n_frase-1,-1,-1):\n",
    "    frase_invertida += frase[i]\n",
    "print(frase_invertida )\n"
   ]
  },
  {
   "cell_type": "code",
   "execution_count": null,
   "metadata": {},
   "outputs": [],
   "source": []
  }
 ],
 "metadata": {
  "kernelspec": {
   "display_name": "Python 3",
   "language": "python",
   "name": "python3"
  },
  "language_info": {
   "codemirror_mode": {
    "name": "ipython",
    "version": 3
   },
   "file_extension": ".py",
   "mimetype": "text/x-python",
   "name": "python",
   "nbconvert_exporter": "python",
   "pygments_lexer": "ipython3",
   "version": "3.9.6"
  },
  "orig_nbformat": 4
 },
 "nbformat": 4,
 "nbformat_minor": 2
}
