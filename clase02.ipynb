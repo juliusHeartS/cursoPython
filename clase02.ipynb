{
 "cells": [
  {
   "attachments": {},
   "cell_type": "markdown",
   "metadata": {},
   "source": [
    "## Funciones anidadas\n",
    "Una función se puede aplicar sobre el resultado de otra sin necesidada de almacenar el resultado en una variable adicional. Por ejemplo:\n"
   ]
  },
  {
   "cell_type": "code",
   "execution_count": null,
   "metadata": {},
   "outputs": [],
   "source": [
    "mensaje = \"Escriba un mensaje cualquiera: \"\n",
    "cadena = input(mensaje)\n",
    "longitud_cadena = len(cadena)\n",
    "print(longitud_cadena)"
   ]
  },
  {
   "attachments": {},
   "cell_type": "markdown",
   "metadata": {},
   "source": [
    "Se  puede reemplazar con el comando anidado:"
   ]
  },
  {
   "cell_type": "code",
   "execution_count": null,
   "metadata": {},
   "outputs": [],
   "source": [
    "mensaje = \"Escriba un mensaje cualquiera: \"\n",
    "print(len(input(mensaje)))"
   ]
  },
  {
   "attachments": {},
   "cell_type": "markdown",
   "metadata": {},
   "source": [
    "### Ejercicio:\n",
    "Escriba una secuencia de comandos para guardar dos listas de números en una sola lista, el programa debe imprimir la lista concatenada."
   ]
  },
  {
   "cell_type": "code",
   "execution_count": null,
   "metadata": {},
   "outputs": [],
   "source": [
    "# Algo que puede parece la solución\n",
    "lista1 = input(\"Ingrese una lista de números: \")\n",
    "lista2 = input(\"Ingrese una segunda listade números\")\n",
    "print(lista1 + lista2)"
   ]
  },
  {
   "attachments": {},
   "cell_type": "markdown",
   "metadata": {},
   "source": [
    "¿Por qué la solución no es correcta?"
   ]
  },
  {
   "attachments": {},
   "cell_type": "markdown",
   "metadata": {},
   "source": [
    "### Una mejor solución.\n",
    "A continuación una secuencia de comandos que ofrecen una solución respetando los tipos."
   ]
  },
  {
   "cell_type": "code",
   "execution_count": null,
   "metadata": {},
   "outputs": [],
   "source": [
    "# Añadiendo elementos a una lista\n",
    "lista1 = []\n",
    "mensaje = \"Ingrese un entero: \"\n",
    "lista1.append(int(input(mensaje)))\n",
    "lista1.append(int(input(mensaje)))\n",
    "lista1.append(int(input(mensaje)))\n",
    "print(\"Lista 1: \",lista1)\n",
    "\n",
    "lista2 = []\n",
    "lista2.append(int(input(mensaje)))\n",
    "lista2.append(int(input(mensaje)))\n",
    "lista2.append(int(input(mensaje)))\n",
    "print(\"Lista 2: \",lista2)\n",
    "\n",
    "mlista = lista1 + lista2\n",
    "print(\"La lista concatenada es: \",mlista)"
   ]
  },
  {
   "attachments": {},
   "cell_type": "markdown",
   "metadata": {},
   "source": [
    "### Una observación sobre las funciones y los tipos. \n",
    "Cuando una función recibe un parámetro, el parámetro debe ser del tipo correcto, por ejemplo:"
   ]
  },
  {
   "cell_type": "code",
   "execution_count": null,
   "metadata": {},
   "outputs": [],
   "source": [
    "len(12345)"
   ]
  },
  {
   "attachments": {},
   "cell_type": "markdown",
   "metadata": {},
   "source": [
    "¿Por qué hay un error?"
   ]
  },
  {
   "cell_type": "code",
   "execution_count": null,
   "metadata": {},
   "outputs": [],
   "source": [
    "len(\"12345\")\n",
    "len([1,2,3,4,5])"
   ]
  },
  {
   "cell_type": "code",
   "execution_count": null,
   "metadata": {},
   "outputs": [],
   "source": [
    "prueba = \"12345\"\n",
    "print('12' in prueba)\n",
    "print('33' in prueba)"
   ]
  },
  {
   "cell_type": "code",
   "execution_count": null,
   "metadata": {},
   "outputs": [],
   "source": [
    "prueba = [1, \"1\", 2, \"2\", 3, \"3\"]\n",
    "print(1 in prueba)\n",
    "print(\"1\" in prueba)"
   ]
  },
  {
   "attachments": {},
   "cell_type": "markdown",
   "metadata": {},
   "source": [
    "####  Ejercicio:\n",
    "Funciona o da error la siguiente secuencia de comandos:"
   ]
  },
  {
   "cell_type": "code",
   "execution_count": null,
   "metadata": {},
   "outputs": [],
   "source": [
    "prueba = 12345\n",
    "1 in prueba"
   ]
  },
  {
   "attachments": {},
   "cell_type": "markdown",
   "metadata": {},
   "source": [
    "## Estructura condicional if\n",
    "La estructura condicional if sirva pra elegir entre dos fluos de ejecución en base al complimiento o no de una condición.\n",
    "La estructura básica es:\n",
    "if \"se cumple la condición\":\n",
    "    instrucciones por verdadero.\n",
    "else:\n",
    "    instrucciones por falso."
   ]
  },
  {
   "cell_type": "code",
   "execution_count": 30,
   "metadata": {},
   "outputs": [
    {
     "name": "stdout",
     "output_type": "stream",
     "text": [
      "El número igresado es más grande que 100\n",
      "Su raíz cuadrada con dos decimales es:  11.14\n"
     ]
    }
   ],
   "source": [
    "# Pongamos una condición sobre un número léido.\n",
    "# Ponga cuidado a la identación, para Python la identación es muy importante\n",
    "numero = float(input(\"Ingrese un número cualquiera: \"))\n",
    "if numero > 100:\n",
    "    print(\"El número igresado es más grande que 100\")\n",
    "    print(\"Su raíz cuadrada con dos decimales es: \", round(numero**0.5,2))\n",
    "else:\n",
    "    print(\"e´n´mero ingresado es menor o igual que 100\")\n",
    "\n"
   ]
  },
  {
   "attachments": {},
   "cell_type": "markdown",
   "metadata": {},
   "source": [
    "### Ejercicio:\n",
    "Haga una secuencia de comandos con los que el computador solicite un número entero y reponda si el número recibido es o no un numero par."
   ]
  },
  {
   "cell_type": "code",
   "execution_count": 31,
   "metadata": {},
   "outputs": [
    {
     "name": "stdout",
     "output_type": "stream",
     "text": [
      "El número  33  no es número par.\n"
     ]
    }
   ],
   "source": [
    "# Solución\n",
    "numero = int(input(\"Ingrese un n´mero entero: \"))\n",
    "if numero%2 == 0:\n",
    "    print(\"El número \", numero, \" es número par.\")\n",
    "else:\n",
    "    print(\"El número \", numero, \" no es número par.\")"
   ]
  },
  {
   "attachments": {},
   "cell_type": "markdown",
   "metadata": {},
   "source": [
    "### Ejercicio:\n",
    "Ingrese una lista de 10 nombres, y una lista de 10 apellidos que corresponda a los nombres de la primera lista. Luego solicite que se ingrese un nombre, verifique si el nombre está o no en la lista de nombres, si el nombre está averigue si el apellido está en la lista de apellidos, caso contrario indique que \"El usuario no está invitado a la fiesta\". Si el apellido está emita un mensaje que indique que \"Hay posibiidades de que el usuario este invitado a la fiesta\", caso contrario emita un mensaje de que el \"El usuario no está invitado a la fiesta\". En draw.io haga un diagrama del flujo de instrucciones."
   ]
  },
  {
   "cell_type": "code",
   "execution_count": null,
   "metadata": {},
   "outputs": [],
   "source": [
    "# Solución."
   ]
  },
  {
   "attachments": {},
   "cell_type": "markdown",
   "metadata": {},
   "source": [
    "### Ejercicio:\n",
    "Ingrese una cadena de caracteres desde el teclado. Averigue si a longitud de la cadena es para o impar. Si es para imprima solamente la mitad superior de la cadea junto con un mensaje indicando el número de caracteres de la cadena. Si la longitud de la cadena es impar, aumente un caracter vacío a la cadena e imprima la mitad inferior de caracteres, indicando el numero de caracteres de la cadena."
   ]
  },
  {
   "cell_type": "markdown",
   "metadata": {},
   "source": []
  }
 ],
 "metadata": {
  "kernelspec": {
   "display_name": "Python 3",
   "language": "python",
   "name": "python3"
  },
  "language_info": {
   "codemirror_mode": {
    "name": "ipython",
    "version": 3
   },
   "file_extension": ".py",
   "mimetype": "text/x-python",
   "name": "python",
   "nbconvert_exporter": "python",
   "pygments_lexer": "ipython3",
   "version": "3.9.6"
  },
  "orig_nbformat": 4
 },
 "nbformat": 4,
 "nbformat_minor": 2
}
