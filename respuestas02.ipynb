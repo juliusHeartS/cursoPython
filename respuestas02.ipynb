{
 "cells": [
  {
   "cell_type": "code",
   "execution_count": 2,
   "metadata": {},
   "outputs": [
    {
     "name": "stdout",
     "output_type": "stream",
     "text": [
      "El usuario no está invitado\n",
      "Hay posibilidades de que el usuario esté invitado a la fiesta\n"
     ]
    }
   ],
   "source": [
    "# Ejercicio 4\n",
    "nombres = [\"Francisco\",\"Servando\",\"Tere\",\"Julio\", \"Alberto\",\n",
    "           \"Alex\",\"Estéban\",\"Malena\",\"Andrés\",\"Carlos\"]\n",
    "apellidos = [\"García\",\"Espín\",\"Matos\",\"Ibarra\",\"Ibarra\",\n",
    "            \"Losa\",\"Navas\",\"Jaramillo\",\"Encalada\",\"Quiroga\"]\n",
    "control = True\n",
    "\n",
    "while control:\n",
    "    nombre_visitante = input(\"Ingrese el nombre del invitado: \")\n",
    "    if nombre_visitante in nombres:\n",
    "        apellido_visitante = input(\"Ingrese el apellido: \")\n",
    "        if apellido_visitante in apellidos:\n",
    "            print(\"Hay posibilidades de que el usuario esté invitado a la fiesta\")\n",
    "        else:\n",
    "            print(\"El usuario no está invitado\")\n",
    "    else:\n",
    "        print(\"El usuario no está invitado\")\n",
    "    \n",
    "    respuesta = input(\"Desea seguir? s/n\")\n",
    "    if respuesta not in ['s','S']:\n",
    "        control = False\n",
    "\n"
   ]
  },
  {
   "attachments": {},
   "cell_type": "markdown",
   "metadata": {},
   "source": [
    "## Funciones"
   ]
  },
  {
   "cell_type": "code",
   "execution_count": 4,
   "metadata": {},
   "outputs": [],
   "source": [
    "def msuma(x,y):\n",
    "    # Descripción msuma es una función que recibe 2 números  y devuelve su suma\n",
    "    # x, y son números\n",
    "    z = x + y\n",
    "    return(z)\n"
   ]
  },
  {
   "cell_type": "code",
   "execution_count": 5,
   "metadata": {},
   "outputs": [
    {
     "data": {
      "text/plain": [
       "5"
      ]
     },
     "execution_count": 5,
     "metadata": {},
     "output_type": "execute_result"
    }
   ],
   "source": [
    "msuma(2,3)"
   ]
  },
  {
   "attachments": {},
   "cell_type": "markdown",
   "metadata": {},
   "source": [
    "### Ejercicio\n",
    "Hacer una función que se llame prueba, que reciba dos parámetros numéricos x , y. La función devuelve la suma de los números si es que los dos números son mayores que diez, devuelve su resta si los dos son menores que 10 y en todos los demás cas devuelve su producto."
   ]
  },
  {
   "cell_type": "code",
   "execution_count": 7,
   "metadata": {},
   "outputs": [],
   "source": [
    "def prueba(x,y):\n",
    "    # Descripción ...\n",
    "    # x,y son números\n",
    "    if x > 10 and y > 10:\n",
    "        return(x + y)\n",
    "    elif x < 10 and y < 10:\n",
    "        return(x - y)\n",
    "    else:\n",
    "        return(x*y)\n",
    "     \n",
    "        "
   ]
  },
  {
   "cell_type": "code",
   "execution_count": 9,
   "metadata": {},
   "outputs": [],
   "source": [
    "valor_devuelto_pueba = prueba(10,10)"
   ]
  },
  {
   "attachments": {},
   "cell_type": "markdown",
   "metadata": {},
   "source": [
    "### Ejercicio\n",
    "Escribir una función que dados dos números devuelva la lista de los dós nnúmeros ordenados.\n",
    "Ejemplo:\n",
    " Le doy 2 y 3, la función devuelve [ 2, 3 ]\n",
    " Le doy 5 y -2, la función devuelve [-2 , 5]"
   ]
  },
  {
   "cell_type": "code",
   "execution_count": 10,
   "metadata": {},
   "outputs": [],
   "source": [
    "def ordenador(x,y):\n",
    "    if x > y:\n",
    "        return([y, x])\n",
    "    else:\n",
    "        return([x, y])"
   ]
  },
  {
   "cell_type": "code",
   "execution_count": 13,
   "metadata": {},
   "outputs": [
    {
     "name": "stdout",
     "output_type": "stream",
     "text": [
      "[-1, 2]\n"
     ]
    }
   ],
   "source": [
    "lista_ordenada = ordenador(2, -1)\n",
    "print(lista_ordenada)"
   ]
  },
  {
   "attachments": {},
   "cell_type": "markdown",
   "metadata": {},
   "source": [
    "#### Problema\n",
    "Toma dos listas de números cualesquiera de longitud 10. Devuelva de las posiciones correspondientes. Utilice una función para devolver una lista con los valores de las posiciones conrrespondientes ordenadas."
   ]
  },
  {
   "cell_type": "code",
   "execution_count": 14,
   "metadata": {},
   "outputs": [],
   "source": [
    "def valor_ordenado(x,y):\n",
    "    # Descripción ...\n",
    "    # x, y son listas de números de la misma longitud\n",
    "    \n",
    "    # Verificamos que las listas sean de la misma longitud\n",
    "    nx = len(x)\n",
    "    ny = len(y)\n",
    "    if nx == ny:\n",
    "        lista_ordenada = []\n",
    "        for i in range(nx):\n",
    "            lista_ordenada.append(ordenador(x[i],y[i]))\n",
    "        \n",
    "        return(lista_ordenada)\n",
    "        \n",
    "    else:\n",
    "        print(\"No es posible el proceso\")\n",
    "        return([])\n"
   ]
  },
  {
   "cell_type": "code",
   "execution_count": 19,
   "metadata": {},
   "outputs": [
    {
     "name": "stdout",
     "output_type": "stream",
     "text": [
      "[[2, 5], [5, 6], [3, 6], [8, 8], [1, 3], [4, 5], [2, 8], [1, 6], [2, 4], [1, 8]]\n"
     ]
    }
   ],
   "source": [
    "lista1 = [2,5,6,8,3,5,8,1,4,1]\n",
    "lista2 = [5,6,3,8,1,4,2,6,2,8]\n",
    "la_lista = valor_ordenado(lista1,lista2)\n",
    "# la_lista\n",
    "print(la_lista)"
   ]
  },
  {
   "cell_type": "code",
   "execution_count": 20,
   "metadata": {},
   "outputs": [
    {
     "data": {
      "text/plain": [
       "[0, 1, 2, 3, 4, 5, 6, 7, 8, 9]"
      ]
     },
     "execution_count": 20,
     "metadata": {},
     "output_type": "execute_result"
    }
   ],
   "source": [
    "list(range(10))"
   ]
  },
  {
   "cell_type": "code",
   "execution_count": 21,
   "metadata": {},
   "outputs": [
    {
     "data": {
      "text/plain": [
       "[-1, 0, 1, 2, 3, 4, 5, 6, 7, 8, 9]"
      ]
     },
     "execution_count": 21,
     "metadata": {},
     "output_type": "execute_result"
    }
   ],
   "source": [
    "list(range(-1,10))"
   ]
  },
  {
   "attachments": {},
   "cell_type": "markdown",
   "metadata": {},
   "source": [
    "### Desafío\n",
    "Reproducir la función range de Python, pero que además acepte pasos no enteros."
   ]
  },
  {
   "cell_type": "code",
   "execution_count": 40,
   "metadata": {},
   "outputs": [],
   "source": [
    "def mrange(inicio=0,final=10,paso=1):\n",
    "    # mrange reproduce los resultados de range pero además acepta pasos no enteros.\n",
    "    # inicio es el valor de inicio de la sucesión\n",
    "    # final indica el último valor no alcanzado\n",
    "    # paso es le valor con el cual avanzo o retrocedo de inicio a final\n",
    "\n",
    "    if inicio <= final and paso > 0:\n",
    "        mlista = []\n",
    "        avance = inicio\n",
    "        while  avance < final:\n",
    "            mlista.append(avance)\n",
    "            avance += paso # avance = avance + paso\n",
    "        return(mlista) \n",
    "    elif inicio >= final and paso < 0:\n",
    "        mlista = []\n",
    "        retroceso = inicio\n",
    "        while retroceso > final:\n",
    "            mlista.append(round(retroceso,4))\n",
    "            retroceso += paso\n",
    "        return(mlista)\n",
    "    else:\n",
    "        print(\"Error, revise los parámetros\")\n",
    "        "
   ]
  },
  {
   "cell_type": "code",
   "execution_count": 44,
   "metadata": {},
   "outputs": [
    {
     "data": {
      "text/plain": [
       "[0,\n",
       " -0.25,\n",
       " -0.5,\n",
       " -0.75,\n",
       " -1.0,\n",
       " -1.25,\n",
       " -1.5,\n",
       " -1.75,\n",
       " -2.0,\n",
       " -2.25,\n",
       " -2.5,\n",
       " -2.75,\n",
       " -3.0,\n",
       " -3.25,\n",
       " -3.5,\n",
       " -3.75,\n",
       " -4.0,\n",
       " -4.25,\n",
       " -4.5,\n",
       " -4.75,\n",
       " -5.0,\n",
       " -5.25,\n",
       " -5.5,\n",
       " -5.75,\n",
       " -6.0,\n",
       " -6.25,\n",
       " -6.5,\n",
       " -6.75,\n",
       " -7.0,\n",
       " -7.25,\n",
       " -7.5,\n",
       " -7.75,\n",
       " -8.0,\n",
       " -8.25,\n",
       " -8.5,\n",
       " -8.75,\n",
       " -9.0,\n",
       " -9.25,\n",
       " -9.5,\n",
       " -9.75]"
      ]
     },
     "execution_count": 44,
     "metadata": {},
     "output_type": "execute_result"
    }
   ],
   "source": [
    "mrange(final=-10,paso=-0.25)"
   ]
  },
  {
   "cell_type": "code",
   "execution_count": 48,
   "metadata": {},
   "outputs": [
    {
     "name": "stdout",
     "output_type": "stream",
     "text": [
      "[0, 0.5, 1.0, 1.5, 2.0, 2.5, 3.0, 3.5, 4.0, 4.5]\n"
     ]
    }
   ],
   "source": [
    "mdom=mrange(final=5,paso=0.5)\n",
    "print(mdom)"
   ]
  },
  {
   "cell_type": "code",
   "execution_count": 49,
   "metadata": {},
   "outputs": [],
   "source": [
    "mf = lambda x: x + 3"
   ]
  },
  {
   "cell_type": "code",
   "execution_count": 51,
   "metadata": {},
   "outputs": [
    {
     "data": {
      "text/plain": [
       "3.1"
      ]
     },
     "execution_count": 51,
     "metadata": {},
     "output_type": "execute_result"
    }
   ],
   "source": [
    "mf(0.1)"
   ]
  },
  {
   "cell_type": "code",
   "execution_count": 52,
   "metadata": {},
   "outputs": [],
   "source": [
    "ydom=[mf(x) for x in mdom]"
   ]
  },
  {
   "cell_type": "code",
   "execution_count": 53,
   "metadata": {},
   "outputs": [
    {
     "name": "stdout",
     "output_type": "stream",
     "text": [
      "[3, 3.5, 4.0, 4.5, 5.0, 5.5, 6.0, 6.5, 7.0, 7.5]\n"
     ]
    }
   ],
   "source": [
    "print(ydom)"
   ]
  },
  {
   "cell_type": "code",
   "execution_count": 54,
   "metadata": {},
   "outputs": [
    {
     "name": "stdout",
     "output_type": "stream",
     "text": [
      "[0, 0.5, 1.0, 1.5, 2.0, 2.5, 3.0, 3.5, 4.0, 4.5]\n"
     ]
    }
   ],
   "source": [
    "print(mdom)"
   ]
  },
  {
   "cell_type": "code",
   "execution_count": 55,
   "metadata": {},
   "outputs": [],
   "source": [
    "ydom = [mf(x+1) for x in mrange()]"
   ]
  },
  {
   "cell_type": "code",
   "execution_count": 56,
   "metadata": {},
   "outputs": [
    {
     "data": {
      "text/plain": [
       "[4, 5, 6, 7, 8, 9, 10, 11, 12, 13]"
      ]
     },
     "execution_count": 56,
     "metadata": {},
     "output_type": "execute_result"
    }
   ],
   "source": [
    "ydom "
   ]
  },
  {
   "cell_type": "code",
   "execution_count": null,
   "metadata": {},
   "outputs": [],
   "source": []
  }
 ],
 "metadata": {
  "kernelspec": {
   "display_name": "Python 3",
   "language": "python",
   "name": "python3"
  },
  "language_info": {
   "codemirror_mode": {
    "name": "ipython",
    "version": 3
   },
   "file_extension": ".py",
   "mimetype": "text/x-python",
   "name": "python",
   "nbconvert_exporter": "python",
   "pygments_lexer": "ipython3",
   "version": "3.9.6"
  },
  "orig_nbformat": 4
 },
 "nbformat": 4,
 "nbformat_minor": 2
}
